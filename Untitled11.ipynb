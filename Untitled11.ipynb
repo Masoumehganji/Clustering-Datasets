{
  "nbformat": 4,
  "nbformat_minor": 0,
  "metadata": {
    "colab": {
      "provenance": [],
      "authorship_tag": "ABX9TyOwywbtw9ZrzKFpkiwZhQTx",
      "include_colab_link": true
    },
    "kernelspec": {
      "name": "python3",
      "display_name": "Python 3"
    },
    "language_info": {
      "name": "python"
    }
  },
  "cells": [
    {
      "cell_type": "markdown",
      "metadata": {
        "id": "view-in-github",
        "colab_type": "text"
      },
      "source": [
        "<a href=\"https://colab.research.google.com/github/Masoumehganji/Clustering-Datasets/blob/master/Untitled11.ipynb\" target=\"_parent\"><img src=\"https://colab.research.google.com/assets/colab-badge.svg\" alt=\"Open In Colab\"/></a>"
      ]
    },
    {
      "cell_type": "code",
      "execution_count": 9,
      "metadata": {
        "colab": {
          "base_uri": "https://localhost:8080/"
        },
        "id": "0V00blrse7-Q",
        "outputId": "963a9124-06c5-498d-a5ee-011adc51a388"
      },
      "outputs": [
        {
          "output_type": "stream",
          "name": "stdout",
          "text": [
            "start loop\n",
            "1\n",
            "2\n",
            "3\n",
            "4\n",
            "5\n",
            "6\n",
            "end loop\n"
          ]
        }
      ],
      "source": [
        "a=10\n",
        "b=4\n",
        "y=0\n",
        "y=a**b\n",
        "i=0\n",
        "print(\"start loop\")\n",
        "while i<6:\n",
        "  i=i+1\n",
        "  print(i)\n",
        "print(\"end loop\")\n",
        "\n"
      ]
    },
    {
      "cell_type": "code",
      "source": [
        "print(\"start loop\")\n",
        "\n",
        "for x in range(1,6):\n",
        "  print(x)\n",
        "\n",
        "print(\"end loop\")\n"
      ],
      "metadata": {
        "colab": {
          "base_uri": "https://localhost:8080/"
        },
        "id": "ghfsheV2hPbJ",
        "outputId": "fa0be1de-793f-46a5-ecfe-32af663b3e81"
      },
      "execution_count": 7,
      "outputs": [
        {
          "output_type": "stream",
          "name": "stdout",
          "text": [
            "start loop\n",
            "1\n",
            "2\n",
            "3\n",
            "4\n",
            "5\n",
            "end loop\n"
          ]
        }
      ]
    },
    {
      "cell_type": "code",
      "source": [
        "for c in range(0,6):\n",
        "  print(c)\n"
      ],
      "metadata": {
        "colab": {
          "base_uri": "https://localhost:8080/"
        },
        "id": "jQUbV2VwiCDz",
        "outputId": "6b868a05-9978-4db3-d992-af76099c338f"
      },
      "execution_count": 8,
      "outputs": [
        {
          "output_type": "stream",
          "name": "stdout",
          "text": [
            "0\n",
            "1\n",
            "2\n",
            "3\n",
            "4\n",
            "5\n"
          ]
        }
      ]
    },
    {
      "cell_type": "code",
      "source": [
        "a=5\n",
        "b=4\n",
        "y=0\n",
        "\n",
        "\n",
        "def my(v1,v2):\n",
        "  v=v1 ** v2\n",
        "  v=v+100\n",
        "  v=v*50\n",
        "  return v\n",
        "\n",
        "\n",
        "\n",
        "\n",
        "y=my(2,2)\n",
        "print(y)"
      ],
      "metadata": {
        "colab": {
          "base_uri": "https://localhost:8080/"
        },
        "id": "4_jqeaHEiK3n",
        "outputId": "5003958d-7191-4358-c304-5db1e2ea509b"
      },
      "execution_count": 14,
      "outputs": [
        {
          "output_type": "stream",
          "name": "stdout",
          "text": [
            "5200\n"
          ]
        }
      ]
    },
    {
      "cell_type": "code",
      "source": [
        "for i in range(1,21):\n",
        "  if i == 5:\n",
        "    print(\"yes\")\n",
        "  else:\n",
        "      print(\"no\")\n"
      ],
      "metadata": {
        "colab": {
          "base_uri": "https://localhost:8080/"
        },
        "id": "hWTfnsHnkeiB",
        "outputId": "5eaec56f-a7af-422e-e8d5-c13a42f9117d"
      },
      "execution_count": 17,
      "outputs": [
        {
          "output_type": "stream",
          "name": "stdout",
          "text": [
            "no\n",
            "no\n",
            "no\n",
            "no\n",
            "yes\n",
            "no\n",
            "no\n",
            "no\n",
            "no\n",
            "no\n",
            "no\n",
            "no\n",
            "no\n",
            "no\n",
            "no\n",
            "no\n",
            "no\n",
            "no\n",
            "no\n",
            "no\n"
          ]
        }
      ]
    },
    {
      "cell_type": "code",
      "source": [
        "def finder5(add):\n",
        "  add_str=str(add)\n",
        "  t=0\n",
        "\n",
        "  for x in range(len(add_str)):\n",
        "   if add_str[x]==\"5\":\n",
        "      t=t+1\n",
        "\n",
        "\n",
        "  return(t)\n",
        "\n"
      ],
      "metadata": {
        "id": "9L8xyHwWmUDS"
      },
      "execution_count": 71,
      "outputs": []
    },
    {
      "cell_type": "code",
      "source": [],
      "metadata": {
        "id": "cF1MPrm93LzQ"
      },
      "execution_count": null,
      "outputs": []
    },
    {
      "cell_type": "code",
      "source": [
        "tc=0\n",
        "for i in range(1,1001):\n",
        "  tc=tc+finder5(i)\n",
        "\n",
        "print(tc)"
      ],
      "metadata": {
        "colab": {
          "base_uri": "https://localhost:8080/"
        },
        "id": "5hXhHoYF1i_O",
        "outputId": "6cd02057-3da7-4b18-b93c-25b8e599804e"
      },
      "execution_count": 72,
      "outputs": [
        {
          "output_type": "stream",
          "name": "stdout",
          "text": [
            "300\n"
          ]
        }
      ]
    }
  ]
}